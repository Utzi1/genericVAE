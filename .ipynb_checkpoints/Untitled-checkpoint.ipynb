{
 "cells": [
  {
   "cell_type": "markdown",
   "id": "e6207893-a2b8-41fb-b9b9-175f692dcbd5",
   "metadata": {},
   "source": [
    "# Usage of the genericVAE\n",
    "## Requirements\n",
    "\n",
    "This notebook uses python >= 3.7 with tensorflow version 2.12.0, numpy version 1.23.5, pandas version 2.0.0 and h5py 3.8.0.\n",
    "\n",
    "## Data\n",
    "\n",
    "The GTEx V8 study serves as a brilliant dataset for demonstration.\n",
    "At first we want to download a set that unifies all gene read counts, for different types of cells, in the study.\n",
    "This data can be downloaded from the following URL: `https://storage.googleapis.com/gtex_analysis_v8/rna_seq_data/GTEx_Analysis_2017-06-05_v8_RNASeQCv1.1.9_gene_reads.gct.gz` .\n",
    "After the download, move it to a folder `genericVAE/data` where you'll place all other data, too.\n",
    "To read the data a helping function is provided:"
   ]
  },
  {
   "cell_type": "code",
   "execution_count": 1,
   "id": "c4eb9b73",
   "metadata": {},
   "outputs": [
    {
     "data": {
      "text/plain": [
       "<bound method DataFrame.info of                    Description  GTEX-1117F-0226-SM-5GZZ7   \n",
       "Name                                                       \n",
       "ENSG00000223972.5      DDX11L1                         0  \\\n",
       "ENSG00000227232.5       WASH7P                       187   \n",
       "ENSG00000278267.1    MIR6859-1                         0   \n",
       "ENSG00000243485.5  MIR1302-2HG                         1   \n",
       "ENSG00000237613.2      FAM138A                         0   \n",
       "...                        ...                       ...   \n",
       "ENSG00000198695.2       MT-ND6                     32048   \n",
       "ENSG00000210194.1        MT-TE                        18   \n",
       "ENSG00000198727.2       MT-CYB                    127194   \n",
       "ENSG00000210195.2        MT-TT                         1   \n",
       "ENSG00000210196.2        MT-TP                         0   \n",
       "\n",
       "                   GTEX-1117F-0426-SM-5EGHI  GTEX-1117F-0526-SM-5EGHJ   \n",
       "Name                                                                    \n",
       "ENSG00000223972.5                         0                         0  \\\n",
       "ENSG00000227232.5                       109                       143   \n",
       "ENSG00000278267.1                         0                         1   \n",
       "ENSG00000243485.5                         0                         0   \n",
       "ENSG00000237613.2                         0                         0   \n",
       "...                                     ...                       ...   \n",
       "ENSG00000198695.2                    164596                     51756   \n",
       "ENSG00000210194.1                        65                        24   \n",
       "ENSG00000198727.2                    638209                    141359   \n",
       "ENSG00000210195.2                         9                         1   \n",
       "ENSG00000210196.2                         9                         1   \n",
       "\n",
       "                   GTEX-1117F-0626-SM-5N9CS  GTEX-1117F-0726-SM-5GIEN   \n",
       "Name                                                                    \n",
       "ENSG00000223972.5                         0                         0  \\\n",
       "ENSG00000227232.5                       251                       113   \n",
       "ENSG00000278267.1                         0                         0   \n",
       "ENSG00000243485.5                         1                         0   \n",
       "ENSG00000237613.2                         0                         0   \n",
       "...                                     ...                       ...   \n",
       "ENSG00000198695.2                      7329                     95273   \n",
       "ENSG00000210194.1                         0                         4   \n",
       "ENSG00000198727.2                    171477                    856541   \n",
       "ENSG00000210195.2                         0                         0   \n",
       "ENSG00000210196.2                         0                         5   \n",
       "\n",
       "                   GTEX-1117F-1326-SM-5EGHH  GTEX-1117F-2426-SM-5EGGH   \n",
       "Name                                                                    \n",
       "ENSG00000223972.5                         0                         0  \\\n",
       "ENSG00000227232.5                       139                       199   \n",
       "ENSG00000278267.1                         0                         0   \n",
       "ENSG00000243485.5                         0                         0   \n",
       "ENSG00000237613.2                         0                         0   \n",
       "...                                     ...                       ...   \n",
       "ENSG00000198695.2                     18938                      6831   \n",
       "ENSG00000210194.1                         5                         2   \n",
       "ENSG00000198727.2                    402801                    136828   \n",
       "ENSG00000210195.2                         1                         0   \n",
       "ENSG00000210196.2                         3                         0   \n",
       "\n",
       "                   GTEX-1117F-2526-SM-5GZY6  GTEX-1117F-2826-SM-5GZXL  ...   \n",
       "Name                                                                   ...   \n",
       "ENSG00000223972.5                         0                         0  ...  \\\n",
       "ENSG00000227232.5                       473                       286  ...   \n",
       "ENSG00000278267.1                         0                         0  ...   \n",
       "ENSG00000243485.5                         0                         0  ...   \n",
       "ENSG00000237613.2                         1                         0  ...   \n",
       "...                                     ...                       ...  ...   \n",
       "ENSG00000198695.2                     15021                     19433  ...   \n",
       "ENSG00000210194.1                         1                         4  ...   \n",
       "ENSG00000198727.2                    169364                    480357  ...   \n",
       "ENSG00000210195.2                         0                         0  ...   \n",
       "ENSG00000210196.2                         1                         3  ...   \n",
       "\n",
       "                   GTEX-ZZPU-1126-SM-5N9CW  GTEX-ZZPU-1226-SM-5N9CK   \n",
       "Name                                                                  \n",
       "ENSG00000223972.5                        0                        2  \\\n",
       "ENSG00000227232.5                       72                       96   \n",
       "ENSG00000278267.1                        0                        0   \n",
       "ENSG00000243485.5                        0                        0   \n",
       "ENSG00000237613.2                        1                        0   \n",
       "...                                    ...                      ...   \n",
       "ENSG00000198695.2                   463869                   128711   \n",
       "ENSG00000210194.1                      245                       70   \n",
       "ENSG00000198727.2                  1409155                  1065891   \n",
       "ENSG00000210195.2                       17                        1   \n",
       "ENSG00000210196.2                       10                        1   \n",
       "\n",
       "                   GTEX-ZZPU-1326-SM-5GZWS  GTEX-ZZPU-1426-SM-5GZZ6   \n",
       "Name                                                                  \n",
       "ENSG00000223972.5                        0                        0  \\\n",
       "ENSG00000227232.5                      136                       79   \n",
       "ENSG00000278267.1                        0                        0   \n",
       "ENSG00000243485.5                        1                        0   \n",
       "ENSG00000237613.2                        0                        0   \n",
       "...                                    ...                      ...   \n",
       "ENSG00000198695.2                   140563                   232890   \n",
       "ENSG00000210194.1                       64                      117   \n",
       "ENSG00000198727.2                   728289                  1000135   \n",
       "ENSG00000210195.2                        1                        4   \n",
       "ENSG00000210196.2                        2                        5   \n",
       "\n",
       "                   GTEX-ZZPU-1826-SM-5E43L  GTEX-ZZPU-2126-SM-5EGIU   \n",
       "Name                                                                  \n",
       "ENSG00000223972.5                        0                        0  \\\n",
       "ENSG00000227232.5                       89                       86   \n",
       "ENSG00000278267.1                        0                        0   \n",
       "ENSG00000243485.5                        2                        2   \n",
       "ENSG00000237613.2                        0                        0   \n",
       "...                                    ...                      ...   \n",
       "ENSG00000198695.2                   268051                    36256   \n",
       "ENSG00000210194.1                      124                       17   \n",
       "ENSG00000198727.2                   993209                   378667   \n",
       "ENSG00000210195.2                        5                        0   \n",
       "ENSG00000210196.2                        7                        3   \n",
       "\n",
       "                   GTEX-ZZPU-2226-SM-5EGIV  GTEX-ZZPU-2426-SM-5E44I   \n",
       "Name                                                                  \n",
       "ENSG00000223972.5                        0                        0  \\\n",
       "ENSG00000227232.5                       49                       84   \n",
       "ENSG00000278267.1                        0                        0   \n",
       "ENSG00000243485.5                        0                        1   \n",
       "ENSG00000237613.2                        0                        0   \n",
       "...                                    ...                      ...   \n",
       "ENSG00000198695.2                    24649                   188858   \n",
       "ENSG00000210194.1                        6                       89   \n",
       "ENSG00000198727.2                   368432                   485123   \n",
       "ENSG00000210195.2                        0                        0   \n",
       "ENSG00000210196.2                        3                        4   \n",
       "\n",
       "                   GTEX-ZZPU-2626-SM-5E45Y  GTEX-ZZPU-2726-SM-5NQ8O  \n",
       "Name                                                                 \n",
       "ENSG00000223972.5                        1                        1  \n",
       "ENSG00000227232.5                       34                       66  \n",
       "ENSG00000278267.1                        0                        0  \n",
       "ENSG00000243485.5                        0                        0  \n",
       "ENSG00000237613.2                        0                        0  \n",
       "...                                    ...                      ...  \n",
       "ENSG00000198695.2                   303816                   118025  \n",
       "ENSG00000210194.1                      120                       55  \n",
       "ENSG00000198727.2                  1231647                   725879  \n",
       "ENSG00000210195.2                       93                        5  \n",
       "ENSG00000210196.2                        9                        1  \n",
       "\n",
       "[56200 rows x 17383 columns]>"
      ]
     },
     "execution_count": 1,
     "metadata": {},
     "output_type": "execute_result"
    }
   ],
   "source": [
    "from helpers import reading\n",
    "data = reading.read_gct_from_GTEx(\"data/GTEx_Analysis_2017-06-05_v8_RNASeQCv1.1.9_gene_reads.gct.gz\")\n",
    "data.info"
   ]
  },
  {
   "cell_type": "markdown",
   "id": "f11b2cae",
   "metadata": {},
   "source": [
    "We see, that there is rows specifying genes (by entrez-id and the HUGO-symbol) and columns specifying samples.\n",
    "As the dataset is quite a chunk, for further analysis we want to safe this data in format, that's faster accessible, for us that's h5:"
   ]
  },
  {
   "cell_type": "code",
   "execution_count": 3,
   "id": "30eb10d2",
   "metadata": {},
   "outputs": [],
   "source": [
    "data.to_hdf(\"data/GTEx_Analysis_2017-06-05_v8_RNASeQCv1.1.9_gene_reads.h5\", key=\"data\")"
   ]
  },
  {
   "cell_type": "markdown",
   "id": "3df3954c",
   "metadata": {},
   "source": [
    "Next we want to filter the dataset for genes, that are relevant for our current scope.\n",
    "For the beginning, lets focus on genes, that are part of the STRING database.\n",
    "For this purpose there is a list provided, named `h_S_string.txt`."
   ]
  },
  {
   "cell_type": "code",
   "execution_count": 4,
   "id": "25a4b07d",
   "metadata": {},
   "outputs": [],
   "source": [
    "import pandas as pd\n",
    "in_string = pd.read_csv(\"h_S_string.txt\", sep=\"\\t\")[\"preferred_name\"]\n",
    "# filter the frame\n",
    "fdat = data.loc[data[\"Description\"].isin(in_string)]"
   ]
  },
  {
   "cell_type": "markdown",
   "id": "af8b6328",
   "metadata": {},
   "source": [
    "Now we have a subset of 17383 samples reduced to 18647 gene reads per sample.\n",
    "Prior to training there needs to be done some pre-processing.\n",
    "Experimentation has shown, that log-transformation and scaling is enough.\n",
    "For the sake of performance we will switch to `numpy` and later reconstruct the data-frame structure.\n"
   ]
  },
  {
   "cell_type": "code",
   "execution_count": 5,
   "id": "7fba55a9",
   "metadata": {},
   "outputs": [],
   "source": [
    "import numpy as np\n",
    "import helpers.data_preprocessing as prep\n",
    "\n",
    "# for the log-transformation\n",
    "logdat = prep.log_norm(np.array(fdat)[:, 2:])\n",
    "# for the scaling, we scale sample-wise, here we add 1 to avoid zero-division:\n",
    "sdat = prep.scale_by_sample(logdat+1)"
   ]
  },
  {
   "cell_type": "markdown",
   "id": "f5470f09",
   "metadata": {},
   "source": [
    "## Build a model\n",
    "\n",
    "Now we can build a model to be trained with the data we just prepared.\n",
    "At first we specify the parameters the model will be based on:"
   ]
  },
  {
   "cell_type": "code",
   "execution_count": null,
   "id": "34898389",
   "metadata": {},
   "outputs": [
    {
     "name": "stdout",
     "output_type": "stream",
     "text": [
      "Epoch 1/100\n",
      "544/544 [==============================] - 20s 36ms/step - loss: 4919455079080.9180 - reconstruction_loss: 2.2211 - kl_loss: 4919455079080.9082\n",
      "Epoch 2/100\n",
      "544/544 [==============================] - 19s 36ms/step - loss: 46909290782306.8203 - reconstruction_loss: 2.3705 - kl_loss: 46909290782306.3672\n",
      "Epoch 3/100\n",
      "544/544 [==============================] - 20s 36ms/step - loss: 487979694787496.1875 - reconstruction_loss: 1.8397 - kl_loss: 487979694787495.9375\n",
      "Epoch 4/100\n",
      "281/544 [==============>...............] - ETA: 9s - loss: 1612.8574 - reconstruction_loss: 0.7072 - kl_loss: 1612.1504"
     ]
    }
   ],
   "source": [
    "import class_definitions.generic_VAE as gvae\n",
    "\n",
    "# as we train sample-wise, we have to transpose the dataframe\n",
    "input_shape = sdat.T.shape[1]\n",
    "\n",
    "vae = gvae.Builder(input_shape=input_shape,\n",
    "                   encoder_shape=[186],\n",
    "                   decoder_shape=[186],\n",
    "                   latent_dims=18,\n",
    "                   dropout_rate=.001)\n",
    "\n",
    "vae = gvae.VAE(vae)\n",
    "\n",
    "# compile it:\n",
    "vae.compile()\n",
    "\n",
    "# and train it:\n",
    "vae.fit(sdat.T, epochs=100, workers=64, use_multiprocessing=True)\n",
    "\n",
    "# to extract the reconstruction-errors we simply access the vae-obj\n",
    "recons = vae.fwise_recon_error_tracker().result().numpy()"
   ]
  },
  {
   "cell_type": "code",
   "execution_count": null,
   "id": "e1bc0b39",
   "metadata": {},
   "outputs": [],
   "source": []
  }
 ],
 "metadata": {
  "kernelspec": {
   "display_name": "Python 3 (ipykernel)",
   "language": "python",
   "name": "python3"
  },
  "language_info": {
   "codemirror_mode": {
    "name": "ipython",
    "version": 3
   },
   "file_extension": ".py",
   "mimetype": "text/x-python",
   "name": "python",
   "nbconvert_exporter": "python",
   "pygments_lexer": "ipython3",
   "version": "3.10.6"
  }
 },
 "nbformat": 4,
 "nbformat_minor": 5
}
